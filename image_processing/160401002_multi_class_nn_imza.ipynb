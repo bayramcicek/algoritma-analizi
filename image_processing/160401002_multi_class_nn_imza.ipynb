{
 "cells": [
  {
   "cell_type": "code",
   "execution_count": 45,
   "metadata": {},
   "outputs": [],
   "source": [
    "import numpy as np\n",
    "import os\n",
    "import matplotlib.pyplot as plt\n",
    "from skimage.transform import resize\n",
    "from sklearn.metrics import confusion_matrix\n",
    "from sklearn.metrics import classification_report\n",
    "import pandas as pd"
   ]
  },
  {
   "cell_type": "code",
   "execution_count": 3,
   "metadata": {},
   "outputs": [],
   "source": [
    "# bw için sadece 0 veya 1 yolla\n",
    "def get_0_1_from_triple(temp_1):\n",
    "    temp = int(temp_1[0] / 3 + temp_1[1] / 3 + temp_1[2] / 3)\n",
    "    if temp == 0:\n",
    "        return 0\n",
    "    else:\n",
    "        return 1\n",
    "    \n",
    "def convert_rgb_to_bw(image):\n",
    "    m, n, k = image.shape\n",
    "    new_image = np.zeros((m, n), dtype='uint8')\n",
    "    for i in range(m):\n",
    "        for j in range(n):\n",
    "            s = get_0_1_from_triple(image[i, j, :])\n",
    "            new_image[i, j] = s\n",
    "    return new_image"
   ]
  },
  {
   "cell_type": "code",
   "execution_count": 4,
   "metadata": {},
   "outputs": [],
   "source": [
    "# tüm klasörler\n",
    "def get_all_folders_in_path(path_=\"\"):\n",
    "    my_folders = [folder for folder in os.listdir(path_) if os.path.isdir(path_ + '/' + str(folder))]\n",
    "    return my_folders\n",
    "\n",
    "# tüm dosyalar\n",
    "def get_all_files_in_folder(path_=\"\"):\n",
    "    my_files = [file for file in os.listdir(path_) if os.path.isfile(path_ + '/' + str(file))]\n",
    "    return my_files\n",
    "\n",
    "def prepare_all_signatures(path=\"\"):\n",
    "    folders = get_all_folders_in_path(path)\n",
    "    size = (200, 200)\n",
    "    x_list = []\n",
    "    for i in range(len(folders)):\n",
    "        png_files = get_all_files_in_folder(path + folders[i])\n",
    "        for j in range(len(png_files)):\n",
    "            image = plt.imread(path + folders[i] + '/' + png_files[j])\n",
    "            resized_image = resize(image, size)\n",
    "            bw_image = convert_rgb_to_bw(resized_image)\n",
    "            # print(resized_image.shape)\n",
    "            # print(png_files[j])\n",
    "            # print((bw_image.reshape(40000)).shape)\n",
    "            reshape_image = bw_image.reshape(40000)\n",
    "            x_list.append(reshape_image)\n",
    "    return x_list"
   ]
  },
  {
   "cell_type": "code",
   "execution_count": 5,
   "metadata": {},
   "outputs": [
    {
     "data": {
      "text/plain": [
       "37"
      ]
     },
     "execution_count": 5,
     "metadata": {},
     "output_type": "execute_result"
    }
   ],
   "source": [
    "main_folder = r\"/home/cicek/Downloads/data_signature/\"\n",
    "data_set = os.listdir(main_folder)\n",
    "len(data_set)"
   ]
  },
  {
   "cell_type": "code",
   "execution_count": 6,
   "metadata": {},
   "outputs": [],
   "source": [
    "list = prepare_all_signatures(main_folder)"
   ]
  },
  {
   "cell_type": "code",
   "execution_count": 16,
   "metadata": {},
   "outputs": [
    {
     "data": {
      "text/plain": [
       "(1147, 40000)"
      ]
     },
     "execution_count": 16,
     "metadata": {},
     "output_type": "execute_result"
    }
   ],
   "source": [
    "X = np.asarray(list)\n",
    "X.shape"
   ]
  },
  {
   "cell_type": "code",
   "execution_count": 17,
   "metadata": {},
   "outputs": [
    {
     "data": {
      "text/plain": [
       "array([[1, 1, 1, ..., 1, 1, 1],\n",
       "       [1, 1, 1, ..., 1, 1, 1],\n",
       "       [1, 1, 1, ..., 1, 1, 1],\n",
       "       ...,\n",
       "       [1, 1, 1, ..., 1, 1, 1],\n",
       "       [1, 1, 1, ..., 1, 1, 1],\n",
       "       [1, 1, 1, ..., 1, 1, 1]], dtype=uint8)"
      ]
     },
     "execution_count": 17,
     "metadata": {},
     "output_type": "execute_result"
    }
   ],
   "source": [
    "X"
   ]
  },
  {
   "cell_type": "code",
   "execution_count": 18,
   "metadata": {},
   "outputs": [
    {
     "data": {
      "image/png": "[encoded data removed]",
      "text/plain": [
       "<Figure size 432x288 with 1 Axes>"
      ]
     },
     "metadata": {
      "needs_background": "light"
     },
     "output_type": "display_data"
    }
   ],
   "source": [
    "i = 1000\n",
    "img_1 = (X[i, :]).reshape(200, 200)\n",
    "# print(y[i])\n",
    "\n",
    "# resmi göster\n",
    "plt.imshow(img_1, cmap='gray')\n",
    "# plt.title(y[i])\n",
    "plt.show()"
   ]
  },
  {
   "cell_type": "code",
   "execution_count": 19,
   "metadata": {},
   "outputs": [],
   "source": [
    "def prepare_y(path=\"\"):\n",
    "    folders = get_all_folders_in_path(path)\n",
    "    y_list = []\n",
    "    for i in range(len(folders)):\n",
    "        png_files = get_all_files_in_folder(path + folders[i])\n",
    "        for j in range(len(png_files)):\n",
    "            y_list.append(i)\n",
    "    return y_list"
   ]
  },
  {
   "cell_type": "code",
   "execution_count": 20,
   "metadata": {},
   "outputs": [
    {
     "data": {
      "text/plain": [
       "1147"
      ]
     },
     "execution_count": 20,
     "metadata": {},
     "output_type": "execute_result"
    }
   ],
   "source": [
    "y_list = prepare_y(main_folder)\n",
    "y = np.asarray(y_list)\n",
    "len(y)"
   ]
  },
  {
   "cell_type": "code",
   "execution_count": 21,
   "metadata": {},
   "outputs": [],
   "source": [
    "y = pd.Series(y, dtype=\"category\")"
   ]
  },
  {
   "cell_type": "code",
   "execution_count": 22,
   "metadata": {},
   "outputs": [
    {
     "data": {
      "text/plain": [
       "(1147,)"
      ]
     },
     "execution_count": 22,
     "metadata": {},
     "output_type": "execute_result"
    }
   ],
   "source": [
    "y.shape"
   ]
  },
  {
   "cell_type": "code",
   "execution_count": 23,
   "metadata": {},
   "outputs": [
    {
     "data": {
      "text/plain": [
       "0        0\n",
       "1        0\n",
       "2        0\n",
       "3        0\n",
       "4        0\n",
       "        ..\n",
       "1142    36\n",
       "1143    36\n",
       "1144    36\n",
       "1145    36\n",
       "1146    36\n",
       "Length: 1147, dtype: category\n",
       "Categories (37, int64): [0, 1, 2, 3, ..., 33, 34, 35, 36]"
      ]
     },
     "execution_count": 23,
     "metadata": {},
     "output_type": "execute_result"
    }
   ],
   "source": [
    "y"
   ]
  },
  {
   "cell_type": "code",
   "execution_count": 27,
   "metadata": {},
   "outputs": [],
   "source": [
    "digits = 37\n",
    "examples = y.shape[0]\n",
    "\n",
    "y = y.values.reshape(examples)\n",
    "Y_new = np.eye(digits)[y.astype('int32')]\n",
    "Y_new = Y_new.T.reshape(digits, examples)"
   ]
  },
  {
   "cell_type": "code",
   "execution_count": 28,
   "metadata": {},
   "outputs": [
    {
     "data": {
      "text/plain": [
       "(37, 1147)"
      ]
     },
     "execution_count": 28,
     "metadata": {},
     "output_type": "execute_result"
    }
   ],
   "source": [
    "Y_new.shape"
   ]
  },
  {
   "cell_type": "code",
   "execution_count": 29,
   "metadata": {},
   "outputs": [
    {
     "data": {
      "text/plain": [
       "array([0., 0., 0., 1., 0., 0., 0., 0., 0., 0., 0., 0., 0., 0., 0., 0., 0.,\n",
       "       0., 0., 0., 0., 0., 0., 0., 0., 0., 0., 0., 0., 0., 0., 0., 0., 0.,\n",
       "       0., 0., 0.])"
      ]
     },
     "execution_count": 29,
     "metadata": {},
     "output_type": "execute_result"
    }
   ],
   "source": [
    "Y_new[:, 100]"
   ]
  },
  {
   "cell_type": "code",
   "execution_count": 30,
   "metadata": {},
   "outputs": [
    {
     "data": {
      "text/plain": [
       "array([[1., 1., 1., ..., 0., 0., 0.],\n",
       "       [0., 0., 0., ..., 0., 0., 0.],\n",
       "       [0., 0., 0., ..., 0., 0., 0.],\n",
       "       ...,\n",
       "       [0., 0., 0., ..., 0., 0., 0.],\n",
       "       [0., 0., 0., ..., 0., 0., 0.],\n",
       "       [0., 0., 0., ..., 1., 1., 1.]])"
      ]
     },
     "execution_count": 30,
     "metadata": {},
     "output_type": "execute_result"
    }
   ],
   "source": [
    "Y_new"
   ]
  },
  {
   "cell_type": "code",
   "execution_count": 31,
   "metadata": {},
   "outputs": [],
   "source": [
    "m = 1147\n",
    "m_test = X.shape[0] - m\n",
    "\n",
    "X_train, X_test = X[:m].T, X[m:].T\n",
    "Y_train, Y_test = Y_new[:,:m], Y_new[:,m:]\n",
    "\n",
    "shuffle_index = np.random.permutation(m)\n",
    "X_train, Y_train = X_train[:, shuffle_index], Y_train[:, shuffle_index]"
   ]
  },
  {
   "cell_type": "code",
   "execution_count": 32,
   "metadata": {},
   "outputs": [
    {
     "data": {
      "image/png": "[encoded data removed]",
      "text/plain": [
       "<Figure size 432x288 with 1 Axes>"
      ]
     },
     "metadata": {
      "needs_background": "light"
     },
     "output_type": "display_data"
    },
    {
     "data": {
      "text/plain": [
       "array([0., 0., 0., 0., 0., 0., 0., 0., 0., 0., 0., 1., 0., 0., 0., 0., 0.,\n",
       "       0., 0., 0., 0., 0., 0., 0., 0., 0., 0., 0., 0., 0., 0., 0., 0., 0.,\n",
       "       0., 0., 0.])"
      ]
     },
     "execution_count": 32,
     "metadata": {},
     "output_type": "execute_result"
    }
   ],
   "source": [
    "i = 1008\n",
    "plt.imshow(X_train[:,i].reshape(200,200), cmap = 'gray')\n",
    "plt.axis(\"off\")\n",
    "plt.show()\n",
    "Y_train[:,i]"
   ]
  },
  {
   "cell_type": "code",
   "execution_count": 37,
   "metadata": {},
   "outputs": [],
   "source": [
    "def compute_multiclass_loss(Y, Y_hat):\n",
    "\n",
    "    L_sum = np.sum(np.multiply(Y, np.log(Y_hat)))\n",
    "    m = Y.shape[1]\n",
    "    L = -(1/m) * L_sum\n",
    "\n",
    "    return L"
   ]
  },
  {
   "cell_type": "code",
   "execution_count": 38,
   "metadata": {},
   "outputs": [],
   "source": [
    "# sigmoid fonksiyonu\n",
    "def sigmoid(z):\n",
    "    s = 1 / (1 + np.exp(-z))\n",
    "    return s"
   ]
  },
  {
   "cell_type": "code",
   "execution_count": 39,
   "metadata": {},
   "outputs": [],
   "source": [
    "def compute_loss(Y, Y_hat):\n",
    "    m = Y.shape[1]\n",
    "    L = -(1. / m) * (np.sum(np.multiply(np.log(Y_hat + epsilon), Y)) + np.sum(\n",
    "        np.multiply(np.log(1 - Y_hat + epsilon), (1 - Y))))\n",
    "\n",
    "    return L"
   ]
  },
  {
   "cell_type": "code",
   "execution_count": 40,
   "metadata": {},
   "outputs": [
    {
     "name": "stdout",
     "output_type": "stream",
     "text": [
      "Epoch 0 cost:  9.764791547896134\n",
      "Epoch 100 cost:  3.31456794134976\n",
      "Epoch 200 cost:  1.943154795413788\n",
      "Epoch 300 cost:  0.775478943164994\n",
      "Epoch 400 cost:  0.6617614902526636\n",
      "Epoch 500 cost:  0.5183894942417022\n",
      "Epoch 600 cost:  0.4158860064807767\n",
      "Epoch 700 cost:  0.3334993060935396\n",
      "Epoch 800 cost:  0.2730128044997612\n",
      "Epoch 900 cost:  0.24860613773905134\n",
      "Epoch 1000 cost:  0.2239226509036262\n",
      "Epoch 1100 cost:  0.16543231487458507\n",
      "Epoch 1200 cost:  0.15261045199837214\n",
      "Epoch 1300 cost:  0.1338781063535589\n",
      "Epoch 1400 cost:  0.11835351304191816\n",
      "Epoch 1500 cost:  0.10537200798520976\n",
      "Epoch 1600 cost:  0.01642462739001388\n",
      "Epoch 1700 cost:  0.0131705865194774\n",
      "Epoch 1800 cost:  0.01214136982240641\n",
      "Epoch 1900 cost:  0.025569799134451\n",
      "Final cost: 0.06432507149397704\n"
     ]
    }
   ],
   "source": [
    "n_x = X_train.shape[0]\n",
    "n_h = 64\n",
    "learning_rate = 1\n",
    "\n",
    "W1 = np.random.randn(n_h, n_x)\n",
    "b1 = np.zeros((n_h, 1))\n",
    "W2 = np.random.randn(digits, n_h)\n",
    "b2 = np.zeros((digits, 1))\n",
    "\n",
    "X = X_train\n",
    "Y = Y_train\n",
    "\n",
    "for i in range(2000):\n",
    "\n",
    "    Z1 = np.matmul(W1,X) + b1\n",
    "    A1 = sigmoid(Z1)\n",
    "    Z2 = np.matmul(W2,A1) + b2\n",
    "    A2 = np.exp(Z2) / np.sum(np.exp(Z2), axis=0)\n",
    "\n",
    "    cost = compute_multiclass_loss(Y, A2)\n",
    "\n",
    "    dZ2 = A2-Y\n",
    "    dW2 = (1./m) * np.matmul(dZ2, A1.T)\n",
    "    db2 = (1./m) * np.sum(dZ2, axis=1, keepdims=True)\n",
    "\n",
    "    dA1 = np.matmul(W2.T, dZ2)\n",
    "    dZ1 = dA1 * sigmoid(Z1) * (1 - sigmoid(Z1))\n",
    "    dW1 = (1./m) * np.matmul(dZ1, X.T)\n",
    "    db1 = (1./m) * np.sum(dZ1, axis=1, keepdims=True)\n",
    "\n",
    "    W2 = W2 - learning_rate * dW2\n",
    "    b2 = b2 - learning_rate * db2\n",
    "    W1 = W1 - learning_rate * dW1\n",
    "    b1 = b1 - learning_rate * db1\n",
    "    if (i % 100 == 0):\n",
    "        print(\"Epoch\", i, \"cost: \", cost)\n",
    "\n",
    "print(\"Final cost:\", cost)"
   ]
  },
  {
   "cell_type": "code",
   "execution_count": 64,
   "metadata": {},
   "outputs": [
    {
     "name": "stdout",
     "output_type": "stream",
     "text": [
      "[[ 0  0    0  0  16  0  0  0  4   2 11 57  1  1  4   0     3  4  0  0]\n",
      " [ 0  0    0  0   0  0  0  0  1   1  0  0  5  0  1   9     6  2  0  0]\n",
      " [ 0  0    0  0   0  0  3  0  0  23  0  4  0  0  0   2     3  2 26  7]\n",
      " [ 0  0    0  0   0  0  0  2 15  17  0  0  0  0  0   0    82  0  0 11]\n",
      " [ 0  0    0  0   0  0  0  0  1   0  0  0  1  0  0   0     1  2  0  0]\n",
      " [ 0  0    0  0   0  0  0  0  0   0  1  0 10  0  0   1     7  1  0  0]\n",
      " [ 0  0  966  0   0  0  0  0  5   0  1 11  2  0  0   0     2  1  0  0]\n",
      " [ 0  0    0  0   0  0  0  0  0   0  0  0  0  0  0   0     0  0  0  0]\n",
      " [ 0  0    0  0   0  0  0  0  0   0  0  0  0  0  0   0     0  0  0  0]\n",
      " [ 0  0    0  0   5  0  0  0  0   0  0  0  0  0  0   0   344  0  0  0]\n",
      " [ 0  0    0  0   0  1  0  0  0   0  0  0  0  0  0   0     0  0  0  0]\n",
      " [ 0  0    0  0   0  0  0  4  0   0  0  0  0  0  0   0     0  0  0  0]\n",
      " [ 0  0    0  0   0  0  0  0 12   0  0  0  0  0  0   0    63  0  0  0]\n",
      " [ 0  0    0  0   0  0  0  0  0 274  0  0  0  0  0   0     0  0  0  0]\n",
      " [ 0  0    0  0   0  0  0  0  0   0  0  0  0  0  0  46     0  0  0  0]\n",
      " [ 0  0    0  0   0  0  0  0  0   0  0  0  0  0  0   0     0  0  0  0]\n",
      " [ 0  0    0  0   0  0  0  0  0   0  0  0  0  0  0   0     0  0  0  0]\n",
      " [ 0  0    0  0   0  0  0  0  0   0  0  0  0  0  0   0  3776  0  0  0]\n",
      " [ 0  0    0  0   0  0  0  0  0   0  0  0  0  0  0   0     0  0  0  0]\n",
      " [ 0  0    0  0   0  0  0  0  0   0  0  0  0  0  0   0     0  0  0  0]]\n",
      "              precision    recall  f1-score   support\n",
      "\n",
      "           0       0.03      0.01      0.02      78.0\n",
      "           1       0.00      0.00      0.00      64.0\n",
      "           3       0.00      0.00      0.00      88.0\n",
      "           4       0.00      0.00      0.00     152.0\n",
      "           5       0.00      0.00      0.00       5.0\n",
      "           6       0.00      0.00      0.00      20.0\n",
      "           7       0.00      0.00      0.00      22.0\n",
      "           8       0.00      0.00      0.00       0.0\n",
      "           9       0.00      0.00      0.00       0.0\n",
      "          10       0.00      0.00      0.00       0.0\n",
      "          11       0.00      0.00      0.00       0.0\n",
      "          12       0.00      0.00      0.00       0.0\n",
      "          13       0.00      0.00      0.00       0.0\n",
      "          14       0.00      0.00      0.00       0.0\n",
      "          15       0.00      0.00      0.00       0.0\n",
      "          16       0.00      0.00      0.00       0.0\n",
      "          17       0.00      0.00      0.00       0.0\n",
      "          18       0.00      0.00      0.00       0.0\n",
      "          19       0.00      0.00      0.00       0.0\n",
      "          20       0.00      0.00      0.00       0.0\n",
      "\n",
      "    accuracy                           0.00     400.0\n",
      "   macro avg       0.00      0.00      0.00     400.0\n",
      "weighted avg       0.00      0.00      0.00     400.0\n",
      "\n"
     ]
    }
   ],
   "source": [
    "Z1 = np.matmul(W1, X_test) + b1\n",
    "A1 = sigmoid(Z1)\n",
    "Z2 = np.matmul(W2, A1) + b2\n",
    "A2 = np.exp(Z2) / np.sum(np.exp(Z2), axis=0)\n",
    "\n",
    "predictions = np.argmax(A2, axis=0)\n",
    "labels = np.argmax(Y_test, axis=0)\n",
    "\n",
    "print(confusion_matrix(predictions, labels))\n",
    "print(classification_report(predictions, labels))"
   ]
  },
  {
   "cell_type": "code",
   "execution_count": null,
   "metadata": {},
   "outputs": [],
   "source": [
    "# "
   ]
  }
 ],
 "metadata": {
  "kernelspec": {
   "display_name": "Python 3",
   "language": "python",
   "name": "python3"
  },
  "language_info": {
   "codemirror_mode": {
    "name": "ipython",
    "version": 3
   },
   "file_extension": ".py",
   "mimetype": "text/x-python",
   "name": "python",
   "nbconvert_exporter": "python",
   "pygments_lexer": "ipython3",
   "version": "3.9.1"
  }
 },
 "nbformat": 4,
 "nbformat_minor": 4
}
