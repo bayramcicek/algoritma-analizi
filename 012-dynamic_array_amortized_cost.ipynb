{
 "cells": [
  {
   "cell_type": "code",
   "execution_count": null,
   "metadata": {},
   "outputs": [],
   "source": [
    "ADT-s\n",
    "list array, pointer \n",
    "tree BST pointer array"
   ]
  },
  {
   "cell_type": "code",
   "execution_count": null,
   "metadata": {},
   "outputs": [],
   "source": [
    "ADT-s\n",
    " internal\n",
    "    array           amortized insert 1,1111111,n               2  1 n, worst-case\n",
    "    pointer"
   ]
  },
  {
   "cell_type": "code",
   "execution_count": null,
   "metadata": {},
   "outputs": [],
   "source": [
    "list -search O(n),O(logN)"
   ]
  },
  {
   "cell_type": "code",
   "execution_count": 1,
   "metadata": {},
   "outputs": [],
   "source": [
    "import ctypes                                      # provides low-level arrays"
   ]
  },
  {
   "cell_type": "code",
   "execution_count": 79,
   "metadata": {
    "code_folding": []
   },
   "outputs": [],
   "source": [
    "class DynamicArray:\n",
    "    \"\"\"A dynamic array class akin to a simplified Python list.\"\"\"\n",
    "    def getsize(self):\n",
    "        import sys\n",
    "        try:\n",
    "            return sys.getsizeof(self._A)\n",
    "          \n",
    "        except:\n",
    "            return 0\n",
    "    def ToString(self):\n",
    "        try:\n",
    "            for i in self._A:\n",
    "                print(i,\" \")\n",
    "        except:\n",
    "            pass\n",
    "    \n",
    "    def getLength(self):\n",
    "        return len(self._A)\n",
    "    def __init__(self):\n",
    "        \"\"\"Create an empty array.\"\"\"\n",
    "        self._n = 0                                    # count actual elements\n",
    "        self._capacity = 1                             # default array capacity\n",
    "        self._A = self._make_array(self._capacity)     # low-level array\n",
    "    def _make_array(self, c):                        # nonpublic utitity\n",
    "        \"\"\"Return new array with capacity c.\"\"\"  \n",
    "        return (c * ctypes.py_object)()               # see ctypes documentation\n",
    "    def append(self, obj):\n",
    "        \"\"\"Add object to end of the array.\"\"\"\n",
    "        if self._n == self._capacity:                 # not enough room\n",
    "            self._resize(2 * self._capacity)             # so double capacity\n",
    "        self._A[self._n] = obj\n",
    "        self._n += 1\n",
    "    def _resize(self, c):                            # nonpublic utitity\n",
    "        \"\"\"Resize internal array to capacity c.\"\"\"\n",
    "        B = self._make_array(c)                        # new (bigger) array\n",
    "        print(\" şu an amortized cost işlemi ... \")\n",
    "        for k in range(self._n):                       # for each existing value\n",
    "            B[k] = self._A[k]\n",
    "            print(\" şu an move işlemi ... \")\n",
    "        self._A = B                                    # use the bigger array\n",
    "        self._capacity = c\n",
    "\n",
    "    def __len__(self):\n",
    "        \"\"\"Return number of elements stored in the array.\"\"\"\n",
    "        return self._n\n",
    "    def len_n(self):\n",
    "        \"\"\"Return number of elements stored in the array.\"\"\"\n",
    "        return self._n\n",
    "    \n",
    "    def __getitem__(self, k):\n",
    "        \"\"\"Return element at index k.\"\"\"\n",
    "        if not 0 <= k < self._n:\n",
    "            raise IndexError('invalid index')\n",
    "        return self._A[k]                              # retrieve from array\n",
    "    def insert(self, k, value):\n",
    "        \"\"\"Insert value at index k, shifting subsequent values rightward.\"\"\"\n",
    "        # (for simplicity, we assume 0 <= k <= n in this verion)\n",
    "        if self._n == self._capacity:                  # not enough room\n",
    "            self._resize(2 * self._capacity)             # so double capacity\n",
    "        for j in range(self._n, k, -1):                # shift rightmost first\n",
    "            self._A[j] = self._A[j-1]\n",
    "        self._A[k] = value                             # store newest element\n",
    "        self._n += 1\n",
    "\n",
    "    def remove(self, value):\n",
    "        \"\"\"Remove first occurrence of value (or raise ValueError).\"\"\"\n",
    "        # note: we do not consider shrinking the dynamic array in this version\n",
    "        for k in range(self._n):\n",
    "            if self._A[k] == value:              # found a match!\n",
    "                for j in range(k, self._n - 1):    # shift others to fill gap\n",
    "                    self._A[j] = self._A[j+1]\n",
    "                self._A[self._n - 1] = None        # help garbage collection\n",
    "                self._n -= 1                       # we have one less item\n",
    "        return                             # exit immediately\n",
    "        raise ValueError('value not found')    # only reached if no match\n"
   ]
  },
  {
   "cell_type": "code",
   "execution_count": 80,
   "metadata": {},
   "outputs": [],
   "source": [
    "c=DynamicArray()"
   ]
  },
  {
   "cell_type": "code",
   "execution_count": 81,
   "metadata": {},
   "outputs": [
    {
     "data": {
      "text/plain": [
       "(1, 128)"
      ]
     },
     "execution_count": 81,
     "metadata": {},
     "output_type": "execute_result"
    }
   ],
   "source": [
    "c.getLength(), c.getsize()"
   ]
  },
  {
   "cell_type": "code",
   "execution_count": 83,
   "metadata": {
    "collapsed": true
   },
   "outputs": [
    {
     "name": "stdout",
     "output_type": "stream",
     "text": [
      " şu an amortized cost işlemi ... \n",
      " şu an move işlemi ... \n",
      " şu an amortized cost işlemi ... \n",
      " şu an move işlemi ... \n",
      " şu an move işlemi ... \n",
      " şu an amortized cost işlemi ... \n",
      " şu an move işlemi ... \n",
      " şu an move işlemi ... \n",
      " şu an move işlemi ... \n",
      " şu an move işlemi ... \n",
      " şu an amortized cost işlemi ... \n",
      " şu an move işlemi ... \n",
      " şu an move işlemi ... \n",
      " şu an move işlemi ... \n",
      " şu an move işlemi ... \n",
      " şu an move işlemi ... \n",
      " şu an move işlemi ... \n",
      " şu an move işlemi ... \n",
      " şu an move işlemi ... \n",
      " şu an amortized cost işlemi ... \n",
      " şu an move işlemi ... \n",
      " şu an move işlemi ... \n",
      " şu an move işlemi ... \n",
      " şu an move işlemi ... \n",
      " şu an move işlemi ... \n",
      " şu an move işlemi ... \n",
      " şu an move işlemi ... \n",
      " şu an move işlemi ... \n",
      " şu an move işlemi ... \n",
      " şu an move işlemi ... \n",
      " şu an move işlemi ... \n",
      " şu an move işlemi ... \n",
      " şu an move işlemi ... \n",
      " şu an move işlemi ... \n",
      " şu an move işlemi ... \n",
      " şu an move işlemi ... \n",
      " şu an amortized cost işlemi ... \n",
      " şu an move işlemi ... \n",
      " şu an move işlemi ... \n",
      " şu an move işlemi ... \n",
      " şu an move işlemi ... \n",
      " şu an move işlemi ... \n",
      " şu an move işlemi ... \n",
      " şu an move işlemi ... \n",
      " şu an move işlemi ... \n",
      " şu an move işlemi ... \n",
      " şu an move işlemi ... \n",
      " şu an move işlemi ... \n",
      " şu an move işlemi ... \n",
      " şu an move işlemi ... \n",
      " şu an move işlemi ... \n",
      " şu an move işlemi ... \n",
      " şu an move işlemi ... \n",
      " şu an move işlemi ... \n",
      " şu an move işlemi ... \n",
      " şu an move işlemi ... \n",
      " şu an move işlemi ... \n",
      " şu an move işlemi ... \n",
      " şu an move işlemi ... \n",
      " şu an move işlemi ... \n",
      " şu an move işlemi ... \n",
      " şu an move işlemi ... \n",
      " şu an move işlemi ... \n",
      " şu an move işlemi ... \n",
      " şu an move işlemi ... \n",
      " şu an move işlemi ... \n",
      " şu an move işlemi ... \n",
      " şu an move işlemi ... \n",
      " şu an move işlemi ... \n",
      " şu an amortized cost işlemi ... \n",
      " şu an move işlemi ... \n",
      " şu an move işlemi ... \n",
      " şu an move işlemi ... \n",
      " şu an move işlemi ... \n",
      " şu an move işlemi ... \n",
      " şu an move işlemi ... \n",
      " şu an move işlemi ... \n",
      " şu an move işlemi ... \n",
      " şu an move işlemi ... \n",
      " şu an move işlemi ... \n",
      " şu an move işlemi ... \n",
      " şu an move işlemi ... \n",
      " şu an move işlemi ... \n",
      " şu an move işlemi ... \n",
      " şu an move işlemi ... \n",
      " şu an move işlemi ... \n",
      " şu an move işlemi ... \n",
      " şu an move işlemi ... \n",
      " şu an move işlemi ... \n",
      " şu an move işlemi ... \n",
      " şu an move işlemi ... \n",
      " şu an move işlemi ... \n",
      " şu an move işlemi ... \n",
      " şu an move işlemi ... \n",
      " şu an move işlemi ... \n",
      " şu an move işlemi ... \n",
      " şu an move işlemi ... \n",
      " şu an move işlemi ... \n",
      " şu an move işlemi ... \n",
      " şu an move işlemi ... \n",
      " şu an move işlemi ... \n",
      " şu an move işlemi ... \n",
      " şu an move işlemi ... \n",
      " şu an move işlemi ... \n",
      " şu an move işlemi ... \n",
      " şu an move işlemi ... \n",
      " şu an move işlemi ... \n",
      " şu an move işlemi ... \n",
      " şu an move işlemi ... \n",
      " şu an move işlemi ... \n",
      " şu an move işlemi ... \n",
      " şu an move işlemi ... \n",
      " şu an move işlemi ... \n",
      " şu an move işlemi ... \n",
      " şu an move işlemi ... \n",
      " şu an move işlemi ... \n",
      " şu an move işlemi ... \n",
      " şu an move işlemi ... \n",
      " şu an move işlemi ... \n",
      " şu an move işlemi ... \n",
      " şu an move işlemi ... \n",
      " şu an move işlemi ... \n",
      " şu an move işlemi ... \n",
      " şu an move işlemi ... \n",
      " şu an move işlemi ... \n",
      " şu an move işlemi ... \n",
      " şu an move işlemi ... \n",
      " şu an move işlemi ... \n",
      " şu an move işlemi ... \n",
      " şu an move işlemi ... \n",
      " şu an move işlemi ... \n",
      " şu an move işlemi ... \n",
      " şu an move işlemi ... \n",
      " şu an move işlemi ... \n",
      " şu an amortized cost işlemi ... \n",
      " şu an move işlemi ... \n",
      " şu an move işlemi ... \n",
      " şu an move işlemi ... \n",
      " şu an move işlemi ... \n",
      " şu an move işlemi ... \n",
      " şu an move işlemi ... \n",
      " şu an move işlemi ... \n",
      " şu an move işlemi ... \n",
      " şu an move işlemi ... \n",
      " şu an move işlemi ... \n",
      " şu an move işlemi ... \n",
      " şu an move işlemi ... \n",
      " şu an move işlemi ... \n",
      " şu an move işlemi ... \n",
      " şu an move işlemi ... \n",
      " şu an move işlemi ... \n",
      " şu an move işlemi ... \n",
      " şu an move işlemi ... \n",
      " şu an move işlemi ... \n",
      " şu an move işlemi ... \n",
      " şu an move işlemi ... \n",
      " şu an move işlemi ... \n",
      " şu an move işlemi ... \n",
      " şu an move işlemi ... \n",
      " şu an move işlemi ... \n",
      " şu an move işlemi ... \n",
      " şu an move işlemi ... \n",
      " şu an move işlemi ... \n",
      " şu an move işlemi ... \n",
      " şu an move işlemi ... \n",
      " şu an move işlemi ... \n",
      " şu an move işlemi ... \n",
      " şu an move işlemi ... \n",
      " şu an move işlemi ... \n",
      " şu an move işlemi ... \n",
      " şu an move işlemi ... \n",
      " şu an move işlemi ... \n",
      " şu an move işlemi ... \n",
      " şu an move işlemi ... \n",
      " şu an move işlemi ... \n",
      " şu an move işlemi ... \n",
      " şu an move işlemi ... \n",
      " şu an move işlemi ... \n",
      " şu an move işlemi ... \n",
      " şu an move işlemi ... \n",
      " şu an move işlemi ... \n",
      " şu an move işlemi ... \n",
      " şu an move işlemi ... \n",
      " şu an move işlemi ... \n",
      " şu an move işlemi ... \n",
      " şu an move işlemi ... \n",
      " şu an move işlemi ... \n",
      " şu an move işlemi ... \n",
      " şu an move işlemi ... \n",
      " şu an move işlemi ... \n",
      " şu an move işlemi ... \n",
      " şu an move işlemi ... \n",
      " şu an move işlemi ... \n",
      " şu an move işlemi ... \n",
      " şu an move işlemi ... \n",
      " şu an move işlemi ... \n",
      " şu an move işlemi ... \n",
      " şu an move işlemi ... \n",
      " şu an move işlemi ... \n",
      " şu an move işlemi ... \n",
      " şu an move işlemi ... \n",
      " şu an move işlemi ... \n",
      " şu an move işlemi ... \n",
      " şu an move işlemi ... \n",
      " şu an move işlemi ... \n",
      " şu an move işlemi ... \n",
      " şu an move işlemi ... \n",
      " şu an move işlemi ... \n",
      " şu an move işlemi ... \n",
      " şu an move işlemi ... \n",
      " şu an move işlemi ... \n",
      " şu an move işlemi ... \n",
      " şu an move işlemi ... \n",
      " şu an move işlemi ... \n",
      " şu an move işlemi ... \n",
      " şu an move işlemi ... \n",
      " şu an move işlemi ... \n",
      " şu an move işlemi ... \n",
      " şu an move işlemi ... \n",
      " şu an move işlemi ... \n",
      " şu an move işlemi ... \n",
      " şu an move işlemi ... \n",
      " şu an move işlemi ... \n",
      " şu an move işlemi ... \n",
      " şu an move işlemi ... \n",
      " şu an move işlemi ... \n",
      " şu an move işlemi ... \n",
      " şu an move işlemi ... \n",
      " şu an move işlemi ... \n",
      " şu an move işlemi ... \n",
      " şu an move işlemi ... \n",
      " şu an move işlemi ... \n",
      " şu an move işlemi ... \n",
      " şu an move işlemi ... \n",
      " şu an move işlemi ... \n",
      " şu an move işlemi ... \n",
      " şu an move işlemi ... \n",
      " şu an move işlemi ... \n",
      " şu an move işlemi ... \n",
      " şu an move işlemi ... \n",
      " şu an move işlemi ... \n",
      " şu an move işlemi ... \n",
      " şu an move işlemi ... \n",
      " şu an move işlemi ... \n",
      " şu an move işlemi ... \n",
      " şu an move işlemi ... \n",
      " şu an move işlemi ... \n",
      " şu an move işlemi ... \n",
      " şu an move işlemi ... \n",
      " şu an move işlemi ... \n",
      " şu an move işlemi ... \n",
      " şu an move işlemi ... \n",
      " şu an move işlemi ... \n",
      " şu an move işlemi ... \n",
      " şu an move işlemi ... \n",
      " şu an move işlemi ... \n",
      " şu an move işlemi ... \n",
      " şu an move işlemi ... \n",
      " şu an move işlemi ... \n",
      " şu an move işlemi ... \n",
      " şu an move işlemi ... \n",
      " şu an move işlemi ... \n",
      " şu an move işlemi ... \n"
     ]
    },
    {
     "data": {
      "text/plain": [
       "(256, 128, 150)"
      ]
     },
     "execution_count": 83,
     "metadata": {},
     "output_type": "execute_result"
    }
   ],
   "source": [
    "c=DynamicArray()\n",
    "for i in range(150):\n",
    "    c.append(-100)\n",
    "c.getLength(), c.getsize(),c.len_n()"
   ]
  },
  {
   "cell_type": "code",
   "execution_count": 63,
   "metadata": {},
   "outputs": [
    {
     "name": "stdout",
     "output_type": "stream",
     "text": [
      "s_1 : 56, s_2 : 640\n"
     ]
    }
   ],
   "source": [
    "import sys\n",
    "from pympler import asizeof\n",
    "\n",
    "s_1=sys.getsizeof(c)\n",
    "s_2=asizeof.asizeof(c)\n",
    "print(\"s_1 : {0}, s_2 : {1}\".format(s_1,s_2))"
   ]
  },
  {
   "cell_type": "code",
   "execution_count": 64,
   "metadata": {},
   "outputs": [
    {
     "data": {
      "text/plain": [
       "620"
      ]
     },
     "execution_count": 64,
     "metadata": {},
     "output_type": "execute_result"
    }
   ],
   "source": [
    "get_size(c)"
   ]
  },
  {
   "cell_type": "code",
   "execution_count": 44,
   "metadata": {},
   "outputs": [
    {
     "name": "stdout",
     "output_type": "stream",
     "text": [
      "n s_1 : 56, s_2 : 648\n"
     ]
    }
   ],
   "source": [
    "n=1000000\n",
    "for i in range(n):\n",
    "    c.append(12)\n",
    "    c.append(\"sdfsdfsdf\")\n",
    "\n",
    "s_1 = sys.getsizeof(c)\n",
    "s_2 = asizeof.asizeof(c)\n",
    "print(\"n s_1 : {0}, s_2 : {1}\".format(s_1, s_2))"
   ]
  },
  {
   "cell_type": "code",
   "execution_count": 35,
   "metadata": {},
   "outputs": [
    {
     "data": {
      "text/plain": [
       "<__main__.py_object_Array_2097152 at 0x2e296121648>"
      ]
     },
     "execution_count": 35,
     "metadata": {},
     "output_type": "execute_result"
    }
   ],
   "source": [
    "c._A"
   ]
  },
  {
   "cell_type": "code",
   "execution_count": 40,
   "metadata": {},
   "outputs": [
    {
     "name": "stdout",
     "output_type": "stream",
     "text": [
      "len : 16 size : 128\n"
     ]
    }
   ],
   "source": [
    "c=DynamicArray();\n",
    "for i in range(10):\n",
    "    c.append(i)\n",
    "    # c.ToString()\n",
    "print(\"len : {0}\".format(c.getLength()),end=\" \")\n",
    "print(\"size : {0}\".format(c.getsize()))"
   ]
  },
  {
   "cell_type": "code",
   "execution_count": 45,
   "metadata": {},
   "outputs": [
    {
     "name": "stdout",
     "output_type": "stream",
     "text": [
      "len : 2097152 size : 128\n"
     ]
    }
   ],
   "source": [
    "for i in range(10000):\n",
    "    c.append(i)\n",
    "    # c.ToString()\n",
    "print(\"len : {0}\".format(c.getLength()),end=\" \")\n",
    "print(\"size : {0}\".format(c.getsize()))"
   ]
  },
  {
   "cell_type": "code",
   "execution_count": 46,
   "metadata": {},
   "outputs": [
    {
     "data": {
      "text/plain": [
       "624"
      ]
     },
     "execution_count": 46,
     "metadata": {},
     "output_type": "execute_result"
    }
   ],
   "source": [
    "get_size(c)"
   ]
  },
  {
   "cell_type": "code",
   "execution_count": null,
   "metadata": {},
   "outputs": [],
   "source": [
    "\n",
    "  \n",
    "  \n",
    "    \n",
    "  def __len__(self):\n",
    "    \"\"\"Return number of elements stored in the array.\"\"\"\n",
    "    return self._n\n",
    "    \n",
    "  def __getitem__(self, k):\n",
    "    \"\"\"Return element at index k.\"\"\"\n",
    "    if not 0 <= k < self._n:\n",
    "      raise IndexError('invalid index')\n",
    "    return self._A[k]                              # retrieve from array\n",
    "  \n",
    "  def append(self, obj):\n",
    "    \"\"\"Add object to end of the array.\"\"\"\n",
    "    if self._n == self._capacity:                  # not enough room\n",
    "      self._resize(2 * self._capacity)             # so double capacity\n",
    "    self._A[self._n] = obj\n",
    "    self._n += 1\n",
    "\n",
    "  def _resize(self, c):                            # nonpublic utitity\n",
    "    \"\"\"Resize internal array to capacity c.\"\"\"\n",
    "    B = self._make_array(c)                        # new (bigger) array\n",
    "    for k in range(self._n):                       # for each existing value\n",
    "      B[k] = self._A[k]\n",
    "    self._A = B                                    # use the bigger array\n",
    "    self._capacity = c\n",
    "\n",
    "  \n",
    "  def insert(self, k, value):\n",
    "    \"\"\"Insert value at index k, shifting subsequent values rightward.\"\"\"\n",
    "    # (for simplicity, we assume 0 <= k <= n in this verion)\n",
    "    if self._n == self._capacity:                  # not enough room\n",
    "      self._resize(2 * self._capacity)             # so double capacity\n",
    "    for j in range(self._n, k, -1):                # shift rightmost first\n",
    "      self._A[j] = self._A[j-1]\n",
    "    self._A[k] = value                             # store newest element\n",
    "    self._n += 1\n",
    "\n",
    "  def remove(self, value):\n",
    "    \"\"\"Remove first occurrence of value (or raise ValueError).\"\"\"\n",
    "    # note: we do not consider shrinking the dynamic array in this version\n",
    "    for k in range(self._n):\n",
    "      if self._A[k] == value:              # found a match!\n",
    "        for j in range(k, self._n - 1):    # shift others to fill gap\n",
    "          self._A[j] = self._A[j+1]\n",
    "        self._A[self._n - 1] = None        # help garbage collection\n",
    "        self._n -= 1                       # we have one less item\n",
    "        return                             # exit immediately\n",
    "    raise ValueError('value not found')    # only reached if no match\n",
    "\n",
    "\n",
    "def testDynamicArray(n=100):\n",
    "  \n",
    "  for i in range(n):\n",
    "    c.append(12)\n",
    "    c.append(\"sdfsdfsdf\")\n",
    "\n",
    "  s_1 = sys.getsizeof(c)\n",
    "  s_2 = asizeof.asizeof(c)\n",
    "  print(\"n s_1 : {0}, s_2 : {1}\".format(s_1, s_2))\n",
    "\n",
    "  for i in range(n*10):\n",
    "    c.append(12)\n",
    "    c.append(\"sdfsdfsdf\")\n",
    "  s_1 = sys.getsizeof(c)\n",
    "  s_2 = asizeof.asizeof(c)\n",
    "  print(\"n*10  s_1 : {0}, s_2 : {1}\".format(s_1, s_2))\n",
    "\n",
    "  for i in range(n*100):\n",
    "    c.append(12)\n",
    "    c.append(\"sdfsdfsdf\")\n",
    "  s_1 = sys.getsizeof(c)\n",
    "  s_2 = asizeof.asizeof(c)\n",
    "  print(\"n*100  s_1 : {0}, s_2 : {1}\".format(s_1, s_2))\n",
    "# testDynamicArray(1000)\n",
    "c=DynamicArray();\n",
    "for i in range(10):\n",
    "  c.append(i)\n",
    "  c.ToString()\n",
    "  print(\"len : {0}\".format(c.getLength()))\n",
    "  print(\"size : {0}\".format(c.getsize()))\n"
   ]
  },
  {
   "cell_type": "code",
   "execution_count": 27,
   "metadata": {},
   "outputs": [],
   "source": [
    "import sys\n",
    "\n",
    "def get_size(obj, seen=None):\n",
    "    \"\"\"Recursively finds size of objects\"\"\"\n",
    "    size = sys.getsizeof(obj)\n",
    "    if seen is None:\n",
    "        seen = set()\n",
    "    obj_id = id(obj)\n",
    "    if obj_id in seen:\n",
    "        return 0\n",
    "    # Important mark as seen *before* entering recursion to gracefully handle\n",
    "    # self-referential objects\n",
    "    seen.add(obj_id)\n",
    "    if isinstance(obj, dict):\n",
    "        size += sum([get_size(v, seen) for v in obj.values()])\n",
    "        size += sum([get_size(k, seen) for k in obj.keys()])\n",
    "    elif hasattr(obj, '__dict__'):\n",
    "        size += get_size(obj.__dict__, seen)\n",
    "    elif hasattr(obj, '__iter__') and not isinstance(obj, (str, bytes, bytearray)):\n",
    "        size += sum([get_size(i, seen) for i in obj])\n",
    "    return size"
   ]
  },
  {
   "cell_type": "code",
   "execution_count": null,
   "metadata": {},
   "outputs": [],
   "source": []
  }
 ],
 "metadata": {
  "kernelspec": {
   "display_name": "Python 3",
   "language": "python",
   "name": "python3"
  },
  "language_info": {
   "codemirror_mode": {
    "name": "ipython",
    "version": 3
   },
   "file_extension": ".py",
   "mimetype": "text/x-python",
   "name": "python",
   "nbconvert_exporter": "python",
   "pygments_lexer": "ipython3",
   "version": "3.7.3"
  }
 },
 "nbformat": 4,
 "nbformat_minor": 2
}
